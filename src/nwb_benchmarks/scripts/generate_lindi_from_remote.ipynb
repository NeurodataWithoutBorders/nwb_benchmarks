{
 "cells": [
  {
   "cell_type": "code",
   "execution_count": 1,
   "id": "abc49392-0615-46f4-9ae6-0f2808c16a09",
   "metadata": {},
   "outputs": [],
   "source": [
    "import json\n",
    "import lindi\n",
    "from pathlib import Path\n",
    "\n",
    "max_chunks_to_cache = int(1e9)"
   ]
  },
  {
   "cell_type": "code",
   "execution_count": 3,
   "id": "527e3697-9dc9-4ee7-8e62-3397ca754914",
   "metadata": {},
   "outputs": [
    {
     "name": "stderr",
     "output_type": "stream",
     "text": [
      "Writing chunk info for acquisition/data_00002_AD0/data: 100%|█████████| 1502/1502 [00:02<00:00, 639.30it/s]\n"
     ]
    }
   ],
   "source": [
    "# ICEPHYS\n",
    "# DANDI:000717\n",
    "# path and URL copied from asset page:\n",
    "# https://api.dandiarchive.org/api/dandisets/000717/versions/draft/assets/471ef39b-806c-4946-80b5-125b55839854/\n",
    "orig_path = Path(\"sub-1214579789_ses-1214621812_icephys/sub-1214579789_ses-1214621812_icephys.nwb\")\n",
    "orig_path.parent.mkdir(parents=True, exist_ok=True) \n",
    "lindi_path = orig_path.with_suffix(\".lindi.json\")\n",
    "h5_url = \"https://api.dandiarchive.org/api/assets/471ef39b-806c-4946-80b5-125b55839854/download/\"\n",
    "\n",
    "# Create the h5py-like client\n",
    "zarr_store_opts = lindi.LindiH5ZarrStoreOpts(num_dataset_chunks_threshold=max_chunks_to_cache)\n",
    "client = lindi.LindiH5pyFile.from_hdf5_file(h5_url, zarr_store_opts=zarr_store_opts)\n",
    "\n",
    "# Generate a reference file system and write to JSON file\n",
    "client.write_lindi_file(str(lindi_path))"
   ]
  },
  {
   "cell_type": "code",
   "execution_count": 4,
   "id": "faa14c01-3940-4057-87e0-74b97fd0427f",
   "metadata": {},
   "outputs": [
    {
     "name": "stderr",
     "output_type": "stream",
     "text": [
      "Writing chunk info for acquisition/ElectricalSeriesAp/data: 100%|█████| 1319/1319 [00:03<00:00, 399.32it/s]\n"
     ]
    }
   ],
   "source": [
    "# ECEPHYS\n",
    "# DANDI:000717\n",
    "# path and URL copied from asset page:\n",
    "# https://api.dandiarchive.org/api/dandisets/000717/versions/draft/assets/3d12a902-139a-4c1a-8fd0-0a7faf2fb223/\n",
    "orig_path = Path(\"sub-IBL-ecephys/sub-IBL-ecephys_ses-3e7ae7c0_desc-18000000-frames-13653-by-384-chunking.nwb\")\n",
    "orig_path.parent.mkdir(parents=True, exist_ok=True) \n",
    "lindi_path = orig_path.with_suffix(\".lindi.json\")\n",
    "h5_url = \"https://api.dandiarchive.org/api/assets/3d12a902-139a-4c1a-8fd0-0a7faf2fb223/download/\"\n",
    "\n",
    "# Create the h5py-like client\n",
    "zarr_store_opts = lindi.LindiH5ZarrStoreOpts(num_dataset_chunks_threshold=max_chunks_to_cache)\n",
    "client = lindi.LindiH5pyFile.from_hdf5_file(h5_url, zarr_store_opts=zarr_store_opts)\n",
    "\n",
    "# Generate a reference file system and write to JSON file\n",
    "client.write_lindi_file(str(lindi_path))"
   ]
  },
  {
   "cell_type": "code",
   "execution_count": null,
   "id": "ff1dd6d4-7001-41e0-bc58-337851f57b57",
   "metadata": {},
   "outputs": [],
   "source": [
    "# OPHYS (remote)\n",
    "# DANDI:000717\n",
    "# path and URL copied from asset page:\n",
    "# https://api.dandiarchive.org/api/dandisets/000717/versions/draft/assets/a6951f6e-b67e-4df3-a14f-07b7854b821c/\n",
    "# this takes a LONG TIME - over an hour\n",
    "# it is faster to download the file (5 min) and run it locally below (1 min)\n",
    "orig_path = Path(\"sub-R6_ses-20200206T210000_behavior+ophys/sub-R6_ses-20200206T210000_behavior+ophys.nwb\")\n",
    "orig_path.parent.mkdir(parents=True, exist_ok=True) \n",
    "lindi_path = orig_path.with_suffix(\".lindi.json\")\n",
    "h5_url = \"https://api.dandiarchive.org/api/assets/a6951f6e-b67e-4df3-a14f-07b7854b821c/download/\"\n",
    "\n",
    "# Create the h5py-like client\n",
    "zarr_store_opts = lindi.LindiH5ZarrStoreOpts(num_dataset_chunks_threshold=max_chunks_to_cache)\n",
    "client = lindi.LindiH5pyFile.from_hdf5_file(h5_url, zarr_store_opts=zarr_store_opts)\n",
    "\n",
    "# Generate a reference file system and write to JSON file\n",
    "client.write_lindi_file(str(lindi_path))"
   ]
  },
  {
   "cell_type": "code",
   "execution_count": 2,
   "id": "da3c2d01-4824-4742-90b3-7be00b2410f7",
   "metadata": {},
   "outputs": [
    {
     "name": "stderr",
     "output_type": "stream",
     "text": [
      "Writing chunk info for acquisition/TwoPhotonSeries/data: 100%|█| 1333568/1333568 [00:08<00:00, 163375.64it/\n"
     ]
    }
   ],
   "source": [
    "# OPHYS (local)\n",
    "# DANDI:000717\n",
    "# path and URL copied from asset page:\n",
    "# https://api.dandiarchive.org/api/dandisets/000717/versions/draft/assets/a6951f6e-b67e-4df3-a14f-07b7854b821c/\n",
    "orig_path = Path(\"sub-R6_ses-20200206T210000_behavior+ophys/sub-R6_ses-20200206T210000_behavior+ophys.nwb\")\n",
    "orig_path.parent.mkdir(parents=True, exist_ok=True) \n",
    "lindi_path = orig_path.with_suffix(\".lindi.json\")\n",
    "h5_url = \"https://api.dandiarchive.org/api/assets/a6951f6e-b67e-4df3-a14f-07b7854b821c/download/\"\n",
    "\n",
    "# Create the h5py-like client\n",
    "zarr_store_opts = lindi.LindiH5ZarrStoreOpts(num_dataset_chunks_threshold=max_chunks_to_cache)\n",
    "\n",
    "# Use local refs\n",
    "url_or_path = \"/Users/rly/Downloads/sub-R6_ses-20200206T210000_behavior+ophys.nwb\"\n",
    "url = h5_url\n",
    "local_cache = None\n",
    "mode = \"r\"\n",
    "\n",
    "zarr_store = lindi.LindiH5ZarrStore.from_file(url_or_path, local_cache=local_cache, opts=zarr_store_opts, url=url)\n",
    "client = lindi.LindiH5pyFile.from_zarr_store(\n",
    "    zarr_store=zarr_store,\n",
    "    mode=mode,\n",
    "    local_cache=local_cache\n",
    ")\n",
    "\n",
    "# Generate a reference file system and write to JSON file\n",
    "client.write_lindi_file(str(lindi_path))"
   ]
  },
  {
   "cell_type": "code",
   "execution_count": null,
   "id": "5ed6ac45-f30b-4417-be97-385a255476f7",
   "metadata": {},
   "outputs": [],
   "source": [
    "# upload to dandi staging on command line\n",
    "# DANDI_API_KEY=xx DANDI_DEVEL=1 dandi upload --dandi-instance=https://api-staging.dandiarchive.org/api --allow-any-path"
   ]
  }
 ],
 "metadata": {
  "kernelspec": {
   "display_name": "Python 3 (ipykernel)",
   "language": "python",
   "name": "python3"
  },
  "language_info": {
   "codemirror_mode": {
    "name": "ipython",
    "version": 3
   },
   "file_extension": ".py",
   "mimetype": "text/x-python",
   "name": "python",
   "nbconvert_exporter": "python",
   "pygments_lexer": "ipython3",
   "version": "3.11.9"
  }
 },
 "nbformat": 4,
 "nbformat_minor": 5
}
