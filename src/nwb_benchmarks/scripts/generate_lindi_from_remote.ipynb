{
 "cells": [
  {
   "cell_type": "code",
   "execution_count": null,
   "id": "abc49392-0615-46f4-9ae6-0f2808c16a09",
   "metadata": {},
   "outputs": [],
   "source": [
    "import lindi\n",
    "from pathlib import Path\n",
    "\n",
    "max_chunks_to_cache = None  # int(1e9)"
   ]
  },
  {
   "cell_type": "code",
   "execution_count": null,
   "id": "527e3697-9dc9-4ee7-8e62-3397ca754914",
   "metadata": {},
   "outputs": [],
   "source": [
    "# ICEPHYS\n",
    "# DANDI:000717\n",
    "# path and URL copied from asset page:\n",
    "# https://api.dandiarchive.org/api/dandisets/000717/versions/draft/assets/471ef39b-806c-4946-80b5-125b55839854/\n",
    "orig_path = Path(\"sub-1214579789_ses-1214621812_icephys/sub-1214579789_ses-1214621812_icephys.nwb\")\n",
    "orig_path.parent.mkdir(parents=True, exist_ok=True)\n",
    "lindi_path = orig_path.with_suffix(\".lindi.json\")\n",
    "h5_url = \"https://api.dandiarchive.org/api/assets/471ef39b-806c-4946-80b5-125b55839854/download/\"\n",
    "\n",
    "# Create the h5py-like client\n",
    "zarr_store_opts = lindi.LindiH5ZarrStoreOpts(num_dataset_chunks_threshold=max_chunks_to_cache)\n",
    "client = lindi.LindiH5pyFile.from_hdf5_file(h5_url, zarr_store_opts=zarr_store_opts)\n",
    "\n",
    "# Generate a reference file system and write to JSON file\n",
    "client.write_lindi_file(str(lindi_path))"
   ]
  },
  {
   "cell_type": "code",
   "execution_count": null,
   "id": "faa14c01-3940-4057-87e0-74b97fd0427f",
   "metadata": {},
   "outputs": [],
   "source": [
    "# ECEPHYS\n",
    "# DANDI:000717\n",
    "# path and URL copied from asset page:\n",
    "# https://api.dandiarchive.org/api/dandisets/000717/versions/draft/assets/3d12a902-139a-4c1a-8fd0-0a7faf2fb223/\n",
    "orig_path = Path(\"sub-IBL-ecephys/sub-IBL-ecephys_ses-3e7ae7c0_desc-18000000-frames-13653-by-384-chunking.nwb\")\n",
    "orig_path.parent.mkdir(parents=True, exist_ok=True)\n",
    "lindi_path = orig_path.with_suffix(\".lindi.json\")\n",
    "h5_url = \"https://api.dandiarchive.org/api/assets/3d12a902-139a-4c1a-8fd0-0a7faf2fb223/download/\"\n",
    "\n",
    "# Create the h5py-like client\n",
    "zarr_store_opts = lindi.LindiH5ZarrStoreOpts(num_dataset_chunks_threshold=max_chunks_to_cache)\n",
    "client = lindi.LindiH5pyFile.from_hdf5_file(h5_url, zarr_store_opts=zarr_store_opts)\n",
    "\n",
    "# Generate a reference file system and write to JSON file\n",
    "client.write_lindi_file(str(lindi_path))"
   ]
  },
  {
   "cell_type": "code",
   "execution_count": null,
   "id": "ff1dd6d4-7001-41e0-bc58-337851f57b57",
   "metadata": {},
   "outputs": [],
   "source": [
    "# OPHYS (remote)\n",
    "# DANDI:000717\n",
    "# path and URL copied from asset page:\n",
    "# https://api.dandiarchive.org/api/dandisets/000717/versions/draft/assets/a6951f6e-b67e-4df3-a14f-07b7854b821c/\n",
    "# this takes a LONG TIME - over an hour\n",
    "# it is faster to download the file (5 min) and run it locally below (1 min)\n",
    "orig_path = Path(\"sub-R6_ses-20200206T210000_behavior+ophys/sub-R6_ses-20200206T210000_behavior+ophys.nwb\")\n",
    "orig_path.parent.mkdir(parents=True, exist_ok=True)\n",
    "lindi_path = orig_path.with_suffix(\".lindi.json\")\n",
    "h5_url = \"https://api.dandiarchive.org/api/assets/a6951f6e-b67e-4df3-a14f-07b7854b821c/download/\"\n",
    "\n",
    "# Create the h5py-like client\n",
    "zarr_store_opts = lindi.LindiH5ZarrStoreOpts(num_dataset_chunks_threshold=max_chunks_to_cache)\n",
    "client = lindi.LindiH5pyFile.from_hdf5_file(h5_url, zarr_store_opts=zarr_store_opts)\n",
    "\n",
    "# Generate a reference file system and write to JSON file\n",
    "client.write_lindi_file(str(lindi_path))"
   ]
  },
  {
   "cell_type": "code",
   "execution_count": null,
   "id": "da3c2d01-4824-4742-90b3-7be00b2410f7",
   "metadata": {},
   "outputs": [],
   "source": [
    "# Run on Perlmutter\n",
    "# OPHYS (local)\n",
    "# import lindi\n",
    "\n",
    "# DANDI:000717 sub-R6/sub-R6_behavior+ophys.nwb\n",
    "# https://api.dandiarchive.org/api/dandisets/000717/versions/draft/assets/c15b3e06-f443-4964-a6b0-c44c367d830b/\n",
    "remote_url = \"https://api.dandiarchive.org/api/assets/c15b3e06-f443-4964-a6b0-c44c367d830b/download/\"\n",
    "local_path = \"/pscratch/sd/r/rly/nwb_bench/finished_conversions/sub-R6_ses-20200206T210000_behavior+ophys_rechunk.nwb\"\n",
    "out_path = local_path + \".lindi.json\"\n",
    "max_chunks_to_cache = None\n",
    "\n",
    "zarr_store_opts = lindi.LindiH5ZarrStoreOpts(num_dataset_chunks_threshold=max_chunks_to_cache)\n",
    "zarr_store = lindi.LindiH5ZarrStore.from_file(local_path, url=remote_url, opts=zarr_store_opts)\n",
    "client = lindi.LindiH5pyFile.from_zarr_store(zarr_store=zarr_store, mode=\"r\")\n",
    "\n",
    "# Generate a reference file system and write to JSON file\n",
    "client.write_lindi_file(str(out_path))\n",
    "client.close()"
   ]
  },
  {
   "cell_type": "code",
   "execution_count": null,
   "id": "a97256c4",
   "metadata": {},
   "outputs": [],
   "source": [
    "# Run on Perlmutter\n",
    "# ECEPHYS (local)\n",
    "# DANDI:000717\n",
    "# path and URL copied from asset page:\n",
    "# https://api.dandiarchive.org/api/assets/df0e074e-3509-4b03-908e-2a1303072707/download/\n",
    "orig_path = Path(\"/pscratch/sd/r/rly/nwb_bench/000717/sub-npI3/sub-npI3_behavior+ecephys.nwb\")\n",
    "orig_path.parent.mkdir(parents=True, exist_ok=True)\n",
    "lindi_path = orig_path.with_suffix(\".nwb.lindi.json\")\n",
    "h5_url = \"https://api.dandiarchive.org/api/assets/df0e074e-3509-4b03-908e-2a1303072707/download/\"\n",
    "\n",
    "# Create the h5py-like client\n",
    "zarr_store_opts = lindi.LindiH5ZarrStoreOpts(num_dataset_chunks_threshold=max_chunks_to_cache)\n",
    "\n",
    "# Use local refs\n",
    "url_or_path = \"/pscratch/sd/r/rly/nwb_bench/finished_conversions/sub-npI3_ses-20190421_behavior+ecephys_rechunk.nwb\"\n",
    "url = h5_url\n",
    "local_cache = None\n",
    "mode = \"r\"\n",
    "\n",
    "zarr_store = lindi.LindiH5ZarrStore.from_file(url_or_path, local_cache=local_cache, opts=zarr_store_opts, url=url)\n",
    "client = lindi.LindiH5pyFile.from_zarr_store(\n",
    "    zarr_store=zarr_store,\n",
    "    mode=mode,\n",
    "    local_cache=local_cache\n",
    ")\n",
    "\n",
    "# Generate a reference file system and write to JSON file\n",
    "client.write_lindi_file(str(lindi_path))"
   ]
  },
  {
   "cell_type": "code",
   "execution_count": null,
   "id": "5ed6ac45-f30b-4417-be97-385a255476f7",
   "metadata": {},
   "outputs": [],
   "source": [
    "# upload to dandi staging on command line\n",
    "# DANDI_API_KEY=xx DANDI_DEVEL=1 dandi upload --dandi-instance=https://api-staging.dandiarchive.org/api --allow-any-path"
   ]
  }
 ],
 "metadata": {
  "kernelspec": {
   "display_name": "test",
   "language": "python",
   "name": "python3"
  },
  "language_info": {
   "codemirror_mode": {
    "name": "ipython",
    "version": 3
   },
   "file_extension": ".py",
   "mimetype": "text/x-python",
   "name": "python",
   "nbconvert_exporter": "python",
   "pygments_lexer": "ipython3",
   "version": "3.13.9"
  }
 },
 "nbformat": 4,
 "nbformat_minor": 5
}
